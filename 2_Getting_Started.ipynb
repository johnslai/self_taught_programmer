{
 "cells": [
  {
   "cell_type": "markdown",
   "metadata": {},
   "source": [
    "# 2. Getting Started"
   ]
  },
  {
   "cell_type": "markdown",
   "metadata": {},
   "source": [
    "- Python 2 versus python 3\n",
    "- IDE: Setup jupyter\n",
    "    - markdown vs code\n",
    "    - Edit vs command mode\n",
    "    - Help\n",
    "    - Save\n",
    "- virtual env: virtualenvwrapper\n",
    "- Git: Setup github\n",
    "- Editor: xcode\n",
    "- https://github.com/calthoff\n",
    "- Debugging\n",
    "    - Print\n",
    "    - __doc__"
   ]
  },
  {
   "cell_type": "code",
   "execution_count": 1,
   "metadata": {
    "collapsed": true
   },
   "outputs": [
    {
     "name": "stdout",
     "output_type": "stream",
     "text": [
      "hello John!\n",
      "hello John!\n",
      "hello John!\n",
      "hello John!\n",
      "hello John!\n",
      "hello John!\n",
      "hello John!\n",
      "hello John!\n",
      "hello John!\n",
      "hello John!\n",
      "hello John!\n",
      "hello John!\n",
      "hello John!\n",
      "hello John!\n",
      "hello John!\n",
      "hello John!\n",
      "hello John!\n",
      "hello John!\n",
      "hello John!\n",
      "hello John!\n",
      "hello John!\n",
      "hello John!\n",
      "hello John!\n",
      "hello John!\n",
      "hello John!\n",
      "hello John!\n",
      "hello John!\n",
      "hello John!\n",
      "hello John!\n",
      "hello John!\n",
      "hello John!\n",
      "hello John!\n",
      "hello John!\n",
      "hello John!\n",
      "hello John!\n",
      "hello John!\n",
      "hello John!\n",
      "hello John!\n",
      "hello John!\n",
      "hello John!\n",
      "hello John!\n",
      "hello John!\n",
      "hello John!\n",
      "hello John!\n",
      "hello John!\n",
      "hello John!\n",
      "hello John!\n",
      "hello John!\n",
      "hello John!\n",
      "hello John!\n",
      "hello John!\n",
      "hello John!\n",
      "hello John!\n",
      "hello John!\n",
      "hello John!\n",
      "hello John!\n",
      "hello John!\n",
      "hello John!\n",
      "hello John!\n",
      "hello John!\n",
      "hello John!\n",
      "hello John!\n",
      "hello John!\n",
      "hello John!\n",
      "hello John!\n",
      "hello John!\n",
      "hello John!\n",
      "hello John!\n",
      "hello John!\n",
      "hello John!\n",
      "hello John!\n",
      "hello John!\n",
      "hello John!\n",
      "hello John!\n",
      "hello John!\n",
      "hello John!\n",
      "hello John!\n",
      "hello John!\n",
      "hello John!\n",
      "hello John!\n",
      "hello John!\n",
      "hello John!\n",
      "hello John!\n",
      "hello John!\n",
      "hello John!\n",
      "hello John!\n",
      "hello John!\n",
      "hello John!\n",
      "hello John!\n",
      "hello John!\n",
      "hello John!\n",
      "hello John!\n",
      "hello John!\n",
      "hello John!\n",
      "hello John!\n",
      "hello John!\n",
      "hello John!\n",
      "hello John!\n",
      "hello John!\n",
      "hello John!\n"
     ]
    }
   ],
   "source": [
    "for i in range(100):\n",
    "    print(\"hello John!\")"
   ]
  },
  {
   "cell_type": "code",
   "execution_count": 4,
   "metadata": {},
   "outputs": [
    {
     "data": {
      "text/plain": [
       "10.770329614269007"
      ]
     },
     "execution_count": 4,
     "metadata": {},
     "output_type": "execute_result"
    }
   ],
   "source": [
    "import math\n",
    "\n",
    "# length of a diagonal\n",
    "l = 4\n",
    "w = 10 \n",
    "d = math.sqrt(l**2 + w**2)\n",
    "d"
   ]
  },
  {
   "cell_type": "code",
   "execution_count": 9,
   "metadata": {},
   "outputs": [
    {
     "data": {
      "text/plain": [
       "1.7320508075688772"
      ]
     },
     "execution_count": 9,
     "metadata": {},
     "output_type": "execute_result"
    }
   ],
   "source": [
    "math.sqrt(3)"
   ]
  },
  {
   "cell_type": "markdown",
   "metadata": {},
   "source": [
    "- Documentation\n",
    "    - Thoughts -> Project -> Directory -> File -> Class -> Method + Variables\n",
    "    - thoughts - notes and links\n",
    "    - Project - Readme.md\n",
    "    - Directory - \\_\\_init_\\_.py\n",
    "    - File/Class/Methods/Variables - “””doc string”””\n",
    "    - Method and variable names should be self-explanatory\n",
    "    - **test** = documentation = development\n",
    "    \n",
    "- formatting\n",
    "    - pep8 or flake8\n",
    "    - autopep8 or autoflake8"
   ]
  }
 ],
 "metadata": {
  "kernelspec": {
   "display_name": "Python 3",
   "language": "python",
   "name": "python3"
  },
  "language_info": {
   "codemirror_mode": {
    "name": "ipython",
    "version": 3
   },
   "file_extension": ".py",
   "mimetype": "text/x-python",
   "name": "python",
   "nbconvert_exporter": "python",
   "pygments_lexer": "ipython3",
   "version": "3.7.0"
  }
 },
 "nbformat": 4,
 "nbformat_minor": 2
}
